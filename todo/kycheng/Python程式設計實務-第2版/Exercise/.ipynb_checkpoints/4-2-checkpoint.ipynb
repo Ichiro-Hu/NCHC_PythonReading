{
 "cells": [
  {
   "cell_type": "code",
   "execution_count": null,
   "metadata": {},
   "outputs": [],
   "source": [
    "import numpy as np \n",
    "import matplotlib.pyplot as plt \n",
    "x = np.arange(0,360)\n",
    "y = np.sin(x*np.pi/180)\n",
    "z = np.cos(x*np.pi/180)\n",
    "plt.plot(x, y, color=\"blue\")\n",
    "plt.plot(x, z, color=\"red\")\n",
    "plt.xlim(0,360)\n",
    "plt.ylim(-1.2, 1.2)\n",
    "plt.title(\"SIN & COS Function\")\n",
    "plt.show()\n"
   ]
  }
 ],
 "metadata": {
  "kernelspec": {
   "display_name": "Python 3",
   "language": "python",
   "name": "python3"
  },
  "language_info": {
   "codemirror_mode": {
    "name": "ipython",
    "version": 3
   },
   "file_extension": ".py",
   "mimetype": "text/x-python",
   "name": "python",
   "nbconvert_exporter": "python",
   "pygments_lexer": "ipython3",
   "version": "3.7.1"
  }
 },
 "nbformat": 4,
 "nbformat_minor": 2
}
